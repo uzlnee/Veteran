{
 "cells": [
  {
   "cell_type": "code",
   "execution_count": 1,
   "id": "7772a49e",
   "metadata": {},
   "outputs": [
    {
     "name": "stderr",
     "output_type": "stream",
     "text": [
      "/Users/kim-yongjun/Documents/ConversationFlow/conversation_logic.py:3: LangChainDeprecationWarning: As of langchain-core 0.3.0, LangChain uses pydantic v2 internally. The langchain_core.pydantic_v1 module was a compatibility shim for pydantic v1, and should no longer be used. Please update the code to import from Pydantic directly.\n",
      "\n",
      "For example, replace imports like: `from langchain_core.pydantic_v1 import BaseModel`\n",
      "with: `from pydantic import BaseModel`\n",
      "or the v1 compatibility namespace if you are working in a code base that has not been fully upgraded to pydantic 2 yet. \tfrom pydantic.v1 import BaseModel\n",
      "\n",
      "  from schemas.ValidationResponse import ValidationResponse\n",
      "/opt/homebrew/anaconda3/envs/langgraph_env/lib/python3.11/site-packages/langchain_openai/chat_models/base.py:1630: UserWarning: Received a Pydantic BaseModel V1 schema. This is not supported by method=\"json_schema\". Please use method=\"function_calling\" or specify schema via JSON Schema or Pydantic V2 BaseModel. Overriding to method=\"function_calling\".\n",
      "  warnings.warn(\n"
     ]
    },
    {
     "name": "stdout",
     "output_type": "stream",
     "text": [
      "안녕하세요. 어르신의 구직을 도와드리기 위해 몇 가지 질문을 드리겠습니다.\n",
      "질문에 대한 답변은 가능한 구체적으로 말씀해주실 수록 최적의 구직 정보를 제공받으실 수 있습니다.\n",
      "그럼 시작하겠습니다.\n",
      "어르신의 성함과 성별, 생년월일을 알려 주세요.\n",
      "어르신의 답변: 저는 김옥자구요 여자에요 그리고 1942년 1월 12일생입니다.\n",
      "감사합니다 어르신. 그럼 다음 질문으로 넘어가겠습니다.\n",
      "어르신의 주소를 자세히 알려 주세요.\n",
      "어르신의 답변: 저는 용인시 수지구 풍덕천로 39 104동 1203호에 살아요.\n",
      "감사합니다 어르신. 그럼 다음 질문으로 넘어가겠습니다.\n",
      "어르신의 경력 사항을 알려 주세요.\n",
      "어르신의 답변: 저는 과거 아호미용실에서 20년간 이발 업무를 했었고, 지금은 3년동안 아파트 청소 일을 돕고 있어요\n",
      "감사합니다 어르신. 그럼 다음 질문으로 넘어가겠습니다.\n",
      "어르신께서 현재 앓고 계신 질환이나 불편하신 점이 있으시다면 말씀해 주세요. 건강에 부담이 될 수 있는 업무는 피하도록 도와드리고 싶습니다.\n",
      "어르신의 답변: 저는 선천적 심장 질환이 있어 무거운 물건을 들지는 못해요\n",
      "감사합니다 어르신. 그럼 다음 질문으로 넘어가겠습니다.\n",
      "언제부터 근무가 가능하신지 알려 주세요. 근무 가능일과 시간대를 말씀해 주시면 좋습니다.\n",
      "어르신의 답변: 저는 2024년 4월 12일 오전9시부터 오후 8시까지 근무 가능합니다.\n",
      "모든 질문에 대한 답변이 끝나셨습니다. 어르신의 답변을 바탕으로 최적의 구직 정보를 빠른 시일 내에 메세지로 전달해드리겠습니다.감사합니다.\n",
      "어르신, 대화가 종료되었습니다.\n"
     ]
    },
    {
     "data": {
      "text/plain": [
       "{'phase': 4,\n",
       " 'history': ['AI : 어르신의 성함과 성별, 생년월일을 알려 주세요.\\n',\n",
       "  'User : 저는 김옥자구요 여자에요 그리고 1942년 1월 12일생입니다.\\n',\n",
       "  'AI : 어르신의 주소를 자세히 알려 주세요.\\n',\n",
       "  'User : 저는 용인시 수지구 풍덕천로 39 104동 1203호에 살아요.\\n',\n",
       "  'AI : 어르신의 경력 사항을 알려 주세요.\\n',\n",
       "  'User : 저는 과거 아호미용실에서 20년간 이발 업무를 했었고, 지금은 3년동안 아파트 청소 일을 돕고 있어요\\n',\n",
       "  'AI : 어르신께서 현재 앓고 계신 질환이나 불편하신 점이 있으시다면 말씀해 주세요. 건강에 부담이 될 수 있는 업무는 피하도록 도와드리고 싶습니다.\\n',\n",
       "  'User : 저는 선천적 심장 질환이 있어 무거운 물건을 들지는 못해요\\n',\n",
       "  'AI : 언제부터 근무가 가능하신지 알려 주세요. 근무 가능일과 시간대를 말씀해 주시면 좋습니다.\\n',\n",
       "  'User : 저는 2024년 4월 12일 오전9시부터 오후 8시까지 근무 가능합니다.\\n',\n",
       "  '[대화 종료]'],\n",
       " 'last_response': '저는 2024년 4월 12일 오전9시부터 오후 8시까지 근무 가능합니다.'}"
      ]
     },
     "execution_count": 1,
     "metadata": {},
     "output_type": "execute_result"
    }
   ],
   "source": [
    "from conversation_logic import conversation_logic\n",
    "logic = conversation_logic()\n",
    "logic.compose_workflow()\n",
    "logic.run()"
   ]
  }
 ],
 "metadata": {
  "kernelspec": {
   "display_name": "langgraph_env",
   "language": "python",
   "name": "python3"
  },
  "language_info": {
   "codemirror_mode": {
    "name": "ipython",
    "version": 3
   },
   "file_extension": ".py",
   "mimetype": "text/x-python",
   "name": "python",
   "nbconvert_exporter": "python",
   "pygments_lexer": "ipython3",
   "version": "3.11.11"
  }
 },
 "nbformat": 4,
 "nbformat_minor": 5
}
