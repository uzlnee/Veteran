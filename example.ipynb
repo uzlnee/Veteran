{
 "cells": [
  {
   "cell_type": "code",
   "execution_count": 1,
   "id": "7772a49e",
   "metadata": {},
   "outputs": [
    {
     "name": "stderr",
     "output_type": "stream",
     "text": [
      "/Users/kim-yongjun/Documents/ConversationFlow/conversation_logic.py:3: LangChainDeprecationWarning: As of langchain-core 0.3.0, LangChain uses pydantic v2 internally. The langchain_core.pydantic_v1 module was a compatibility shim for pydantic v1, and should no longer be used. Please update the code to import from Pydantic directly.\n",
      "\n",
      "For example, replace imports like: `from langchain_core.pydantic_v1 import BaseModel`\n",
      "with: `from pydantic import BaseModel`\n",
      "or the v1 compatibility namespace if you are working in a code base that has not been fully upgraded to pydantic 2 yet. \tfrom pydantic.v1 import BaseModel\n",
      "\n",
      "  from schemas.ValidationResponse import ValidationResponse\n",
      "/opt/homebrew/anaconda3/envs/langgraph_env/lib/python3.11/site-packages/langchain_openai/chat_models/base.py:1630: UserWarning: Received a Pydantic BaseModel V1 schema. This is not supported by method=\"json_schema\". Please use method=\"function_calling\" or specify schema via JSON Schema or Pydantic V2 BaseModel. Overriding to method=\"function_calling\".\n",
      "  warnings.warn(\n"
     ]
    },
    {
     "name": "stdout",
     "output_type": "stream",
     "text": [
      "안녕하세요. 어르신의 구직을 도와드리기 위해 몇 가지 질문을 드리겠습니다.\n",
      "질문에 대한 답변은 가능한 구체적으로 말씀해주실 수록 최적의 구직 정보를 제공받으실 수 있습니다.\n",
      "그럼 시작하겠습니다.\n",
      "어르신의 성함과 성별, 생년월일을 알려 주세요.\n",
      "어르신의 답변: 저는 김옥자구요 여자에요 그리고 1942년 1월 12일생입니다.\n",
      "감사합니다 어르신. 그럼 다음 질문으로 넘어가겠습니다.\n",
      "어르신의 주소를 자세히 알려 주세요.\n",
      "어르신의 답변: 저는 용인시 수지구 풍덕천로 39 104동 1203호에 살아요.\n",
      "감사합니다 어르신. 그럼 다음 질문으로 넘어가겠습니다.\n",
      "어르신의 경력 사항을 알려 주세요.\n",
      "어르신의 답변: 저는 과거 아호미용실에서 20년간 이발 업무를 했었고, 지금은 3년동안 아파트 청소 일을 돕고 있어요\n",
      "감사합니다 어르신. 그럼 다음 질문으로 넘어가겠습니다.\n",
      "어르신께서 현재 앓고 계신 질환이나 불편하신 점이 있으시다면 말씀해 주세요. 건강에 부담이 될 수 있는 업무는 피하도록 도와드리고 싶습니다.\n",
      "어르신의 답변: 저는 선천적 심장 질환이 있어 무거운 물건을 들지는 못해요\n",
      "감사합니다 어르신. 그럼 다음 질문으로 넘어가겠습니다.\n",
      "언제부터 근무가 가능하신지 알려 주세요. 근무 가능일과 시간대를 말씀해 주시면 좋습니다.\n",
      "어르신의 답변: 저는 2024년 4월 12일 오전9시부터 오후 8시까지 근무 가능합니다.\n",
      "모든 질문에 대한 답변이 끝나셨습니다. 어르신의 답변을 바탕으로 최적의 구직 정보를 빠른 시일 내에 메세지로 전달해드리겠습니다.감사합니다.\n",
      "어르신, 대화가 종료되었습니다.\n"
     ]
    },
    {
     "data": {
      "text/plain": [
       "{'phase': 4,\n",
       " 'history': ['AI : 어르신의 성함과 성별, 생년월일을 알려 주세요.\\n',\n",
       "  'User : 저는 김옥자구요 여자에요 그리고 1942년 1월 12일생입니다.\\n',\n",
       "  'AI : 어르신의 주소를 자세히 알려 주세요.\\n',\n",
       "  'User : 저는 용인시 수지구 풍덕천로 39 104동 1203호에 살아요.\\n',\n",
       "  'AI : 어르신의 경력 사항을 알려 주세요.\\n',\n",
       "  'User : 저는 과거 아호미용실에서 20년간 이발 업무를 했었고, 지금은 3년동안 아파트 청소 일을 돕고 있어요\\n',\n",
       "  'AI : 어르신께서 현재 앓고 계신 질환이나 불편하신 점이 있으시다면 말씀해 주세요. 건강에 부담이 될 수 있는 업무는 피하도록 도와드리고 싶습니다.\\n',\n",
       "  'User : 저는 선천적 심장 질환이 있어 무거운 물건을 들지는 못해요\\n',\n",
       "  'AI : 언제부터 근무가 가능하신지 알려 주세요. 근무 가능일과 시간대를 말씀해 주시면 좋습니다.\\n',\n",
       "  'User : 저는 2024년 4월 12일 오전9시부터 오후 8시까지 근무 가능합니다.\\n',\n",
       "  '[대화 종료]'],\n",
       " 'last_response': '저는 2024년 4월 12일 오전9시부터 오후 8시까지 근무 가능합니다.'}"
      ]
     },
     "execution_count": 1,
     "metadata": {},
     "output_type": "execute_result"
    }
   ],
   "source": [
    "from conversation_logic import conversation_logic\n",
    "logic = conversation_logic()\n",
    "logic.compose_workflow()\n",
    "logic.run()"
   ]
  },
  {
   "cell_type": "code",
   "execution_count": null,
   "id": "d5bcaeb5",
   "metadata": {},
   "outputs": [],
   "source": [
    "from schemas.VoiceToText import VoiceToText\n",
    "vtt = VoiceToText()\n",
    "vtt.speak(\"안녕하세요. 질문을 시작하겠습니다.\")\n",
    "result = vtt.listen(\"./sample_data/S00007727/0007.wav\") # 오디오 파일 경로\n",
    "print(\"[고객] \", result)"
   ]
  },
  {
   "cell_type": "markdown",
   "id": "7f4f9998",
   "metadata": {},
   "source": [
    "[AI] 안녕하세요. 질문을 시작하겠습니다. <br>\n",
    "[고객] \"저희가 신규 등록 시 무료로 레벨 테스트를 하고 있습니다.\""
   ]
  },
  {
   "cell_type": "code",
   "execution_count": 1,
   "id": "317512a1",
   "metadata": {},
   "outputs": [
    {
     "name": "stderr",
     "output_type": "stream",
     "text": [
      "/Users/jeong-yujin/Desktop/Veteran/conversation_logic.py:3: LangChainDeprecationWarning: As of langchain-core 0.3.0, LangChain uses pydantic v2 internally. The langchain_core.pydantic_v1 module was a compatibility shim for pydantic v1, and should no longer be used. Please update the code to import from Pydantic directly.\n",
      "\n",
      "For example, replace imports like: `from langchain_core.pydantic_v1 import BaseModel`\n",
      "with: `from pydantic import BaseModel`\n",
      "or the v1 compatibility namespace if you are working in a code base that has not been fully upgraded to pydantic 2 yet. \tfrom pydantic.v1 import BaseModel\n",
      "\n",
      "  from schemas.ValidationResponse import ValidationResponse\n",
      "/Users/jeong-yujin/miniconda3/envs/veteran/lib/python3.11/site-packages/langchain_openai/chat_models/base.py:1630: UserWarning: Received a Pydantic BaseModel V1 schema. This is not supported by method=\"json_schema\". Please use method=\"function_calling\" or specify schema via JSON Schema or Pydantic V2 BaseModel. Overriding to method=\"function_calling\".\n",
      "  warnings.warn(\n"
     ]
    },
    {
     "name": "stdout",
     "output_type": "stream",
     "text": [
      "[AI] 안녕하세요. 어르신의 구직을 도와드리기 위해 몇 가지 질문을 드리겠습니다.\n",
      "[AI] 질문에 대한 답변은 가능한 구체적으로 말씀해주실 수록 최적의 구직 정보를 제공받으실 수 있습니다.\n",
      "[AI] 그럼 시작하겠습니다.\n",
      "[AI] 어르신의 성함과 성별, 생년월일을 알려 주세요.\n",
      "[녹음 시작] 말씀해주세요.\n",
      "[저장 완료] recordings/20250508_230815/USER_0001.wav에 저장되었습니다.\n",
      "[USER] \"저는 김옥자고요. 여자예요. 그리고 1942년 1월 12일 생입니다.\"\n",
      "[AI] 어르신, 다음 질문으로 넘어가겠습니다.\n",
      "[AI] 어르신의 주소를 자세히 알려 주세요.\n",
      "[녹음 시작] 말씀해주세요.\n",
      "[저장 완료] recordings/20250508_230815/USER_0002.wav에 저장되었습니다.\n",
      "[USER] \"저는 용인시 수지구 풍덕천로 39104동 1203호에 살아요.\"\n",
      "[AI] 어르신, 다음 질문으로 넘어가겠습니다.\n",
      "[AI] 어르신의 경력 사항을 알려 주세요.\n",
      "[녹음 시작] 말씀해주세요.\n",
      "[저장 완료] recordings/20250508_230815/USER_0003.wav에 저장되었습니다.\n",
      "[USER] \"저는 과거 9년간 미용실에서 20년 이발 업무를 했었고 지금은 3년 동안 아파트 청소 일을 돕고 있어요.\"\n",
      "[AI] 어르신, 말씀주신 내용이 충분하지 않은 것 같아요. 답변에서 노인의 경력 사항이 명확하게 구분되어 있지 않고, 각 경력에 대한 자세한 정보가 부족합니다. 예를 들어, 미용실에서의 경력의 시작과 종료 시점, 아파트 청소 일을 시작한 시점 등이 누락되었습니다.\n",
      "[AI] 어르신의 경력 사항을 알려 주세요.\n",
      "[녹음 시작] 말씀해주세요.\n",
      "[저장 완료] recordings/20250508_230815/USER_0004.wav에 저장되었습니다.\n",
      "[USER] \"저는 2001년부터 2005년까지 이용실을 했었고 지금은 2022년부터 2025년까지 아파트 청소를 돕고 있어요.\"\n",
      "[AI] 어르신, 말씀주신 내용이 충분하지 않은 것 같아요. 어르신의 경력 사항이 두 개의 직업으로 나누어져 있지만, 각 직업의 구체적인 직책명이나 두 직업 간의 경험 내용이 추가로 설명되지 않았습니다. 경력의 활동 내용에 대한 자세한 설명이 누락되었습니다.\n",
      "[AI] 어르신의 경력 사항을 알려 주세요.\n",
      "[녹음 시작] 말씀해주세요.\n",
      "[저장 완료] recordings/20250508_230815/USER_0005.wav에 저장되었습니다.\n",
      "[USER] \"저는 2001년부터 2005년까지 이발 업무를 했었고 지금은 2005년부터 2007년까지 아파트에서 청소를 돕고 있어요.\"\n",
      "[AI] 어르신, 말씀주신 내용이 충분하지 않은 것 같아요. 경력 사항에 대한 정보가 누락되었습니다. 질문에서는 어르신이 일한 모든 경력에 대한 연도와 직무를 요구하고 있지만, 답변은 2007년 이후의 현재 경력이 포함되어 있지 않아 정보가 부족합니다.\n"
     ]
    },
    {
     "ename": "KeyboardInterrupt",
     "evalue": "",
     "output_type": "error",
     "traceback": [
      "\u001b[31m---------------------------------------------------------------------------\u001b[39m",
      "\u001b[31mKeyboardInterrupt\u001b[39m                         Traceback (most recent call last)",
      "\u001b[36mCell\u001b[39m\u001b[36m \u001b[39m\u001b[32mIn[1]\u001b[39m\u001b[32m, line 4\u001b[39m\n\u001b[32m      2\u001b[39m logic = conversation_logic()\n\u001b[32m      3\u001b[39m logic.compose_workflow()\n\u001b[32m----> \u001b[39m\u001b[32m4\u001b[39m \u001b[43mlogic\u001b[49m\u001b[43m.\u001b[49m\u001b[43mrun\u001b[49m\u001b[43m(\u001b[49m\u001b[43m)\u001b[49m\n",
      "\u001b[36mFile \u001b[39m\u001b[32m~/Desktop/Veteran/conversation_logic.py:145\u001b[39m, in \u001b[36mconversation_logic.run\u001b[39m\u001b[34m(self)\u001b[39m\n\u001b[32m    139\u001b[39m \u001b[38;5;28mself\u001b[39m.compose_workflow()\n\u001b[32m    140\u001b[39m dummy_input = {\u001b[33m'\u001b[39m\u001b[33mphase\u001b[39m\u001b[33m'\u001b[39m: \u001b[32m0\u001b[39m,\n\u001b[32m    141\u001b[39m       \u001b[33m'\u001b[39m\u001b[33mhistory\u001b[39m\u001b[33m'\u001b[39m: [],\n\u001b[32m    142\u001b[39m       \u001b[33m'\u001b[39m\u001b[33mlast_response\u001b[39m\u001b[33m'\u001b[39m: \u001b[33m\"\u001b[39m\u001b[33m\"\u001b[39m,\n\u001b[32m    143\u001b[39m       \u001b[33m'\u001b[39m\u001b[33mai_prefix\u001b[39m\u001b[33m'\u001b[39m: \u001b[33m\"\u001b[39m\u001b[33m\"\u001b[39m}\n\u001b[32m--> \u001b[39m\u001b[32m145\u001b[39m result = \u001b[38;5;28;43mself\u001b[39;49m\u001b[43m.\u001b[49m\u001b[43mgraph\u001b[49m\u001b[43m.\u001b[49m\u001b[43minvoke\u001b[49m\u001b[43m(\u001b[49m\u001b[43mdummy_input\u001b[49m\u001b[43m)\u001b[49m\n\u001b[32m    147\u001b[39m \u001b[38;5;28;01mreturn\u001b[39;00m result\n",
      "\u001b[36mFile \u001b[39m\u001b[32m~/miniconda3/envs/veteran/lib/python3.11/site-packages/langgraph/pregel/__init__.py:2823\u001b[39m, in \u001b[36mPregel.invoke\u001b[39m\u001b[34m(self, input, config, stream_mode, output_keys, interrupt_before, interrupt_after, checkpoint_during, debug, **kwargs)\u001b[39m\n\u001b[32m   2820\u001b[39m chunks: \u001b[38;5;28mlist\u001b[39m[Union[\u001b[38;5;28mdict\u001b[39m[\u001b[38;5;28mstr\u001b[39m, Any], Any]] = []\n\u001b[32m   2821\u001b[39m interrupts: \u001b[38;5;28mlist\u001b[39m[Interrupt] = []\n\u001b[32m-> \u001b[39m\u001b[32m2823\u001b[39m \u001b[43m\u001b[49m\u001b[38;5;28;43;01mfor\u001b[39;49;00m\u001b[43m \u001b[49m\u001b[43mchunk\u001b[49m\u001b[43m \u001b[49m\u001b[38;5;129;43;01min\u001b[39;49;00m\u001b[43m \u001b[49m\u001b[38;5;28;43mself\u001b[39;49m\u001b[43m.\u001b[49m\u001b[43mstream\u001b[49m\u001b[43m(\u001b[49m\n\u001b[32m   2824\u001b[39m \u001b[43m    \u001b[49m\u001b[38;5;28;43minput\u001b[39;49m\u001b[43m,\u001b[49m\n\u001b[32m   2825\u001b[39m \u001b[43m    \u001b[49m\u001b[43mconfig\u001b[49m\u001b[43m,\u001b[49m\n\u001b[32m   2826\u001b[39m \u001b[43m    \u001b[49m\u001b[43mstream_mode\u001b[49m\u001b[43m=\u001b[49m\u001b[43mstream_mode\u001b[49m\u001b[43m,\u001b[49m\n\u001b[32m   2827\u001b[39m \u001b[43m    \u001b[49m\u001b[43moutput_keys\u001b[49m\u001b[43m=\u001b[49m\u001b[43moutput_keys\u001b[49m\u001b[43m,\u001b[49m\n\u001b[32m   2828\u001b[39m \u001b[43m    \u001b[49m\u001b[43minterrupt_before\u001b[49m\u001b[43m=\u001b[49m\u001b[43minterrupt_before\u001b[49m\u001b[43m,\u001b[49m\n\u001b[32m   2829\u001b[39m \u001b[43m    \u001b[49m\u001b[43minterrupt_after\u001b[49m\u001b[43m=\u001b[49m\u001b[43minterrupt_after\u001b[49m\u001b[43m,\u001b[49m\n\u001b[32m   2830\u001b[39m \u001b[43m    \u001b[49m\u001b[43mcheckpoint_during\u001b[49m\u001b[43m=\u001b[49m\u001b[43mcheckpoint_during\u001b[49m\u001b[43m,\u001b[49m\n\u001b[32m   2831\u001b[39m \u001b[43m    \u001b[49m\u001b[43mdebug\u001b[49m\u001b[43m=\u001b[49m\u001b[43mdebug\u001b[49m\u001b[43m,\u001b[49m\n\u001b[32m   2832\u001b[39m \u001b[43m    \u001b[49m\u001b[43m*\u001b[49m\u001b[43m*\u001b[49m\u001b[43mkwargs\u001b[49m\u001b[43m,\u001b[49m\n\u001b[32m   2833\u001b[39m \u001b[43m\u001b[49m\u001b[43m)\u001b[49m\u001b[43m:\u001b[49m\n\u001b[32m   2834\u001b[39m \u001b[43m    \u001b[49m\u001b[38;5;28;43;01mif\u001b[39;49;00m\u001b[43m \u001b[49m\u001b[43mstream_mode\u001b[49m\u001b[43m \u001b[49m\u001b[43m==\u001b[49m\u001b[43m \u001b[49m\u001b[33;43m\"\u001b[39;49m\u001b[33;43mvalues\u001b[39;49m\u001b[33;43m\"\u001b[39;49m\u001b[43m:\u001b[49m\n\u001b[32m   2835\u001b[39m \u001b[43m        \u001b[49m\u001b[38;5;28;43;01mif\u001b[39;49;00m\u001b[43m \u001b[49m\u001b[43m(\u001b[49m\n\u001b[32m   2836\u001b[39m \u001b[43m            \u001b[49m\u001b[38;5;28;43misinstance\u001b[39;49m\u001b[43m(\u001b[49m\u001b[43mchunk\u001b[49m\u001b[43m,\u001b[49m\u001b[43m \u001b[49m\u001b[38;5;28;43mdict\u001b[39;49m\u001b[43m)\u001b[49m\n\u001b[32m   2837\u001b[39m \u001b[43m            \u001b[49m\u001b[38;5;129;43;01mand\u001b[39;49;00m\u001b[43m \u001b[49m\u001b[43m(\u001b[49m\u001b[43mints\u001b[49m\u001b[43m \u001b[49m\u001b[43m:=\u001b[49m\u001b[43m \u001b[49m\u001b[43mchunk\u001b[49m\u001b[43m.\u001b[49m\u001b[43mget\u001b[49m\u001b[43m(\u001b[49m\u001b[43mINTERRUPT\u001b[49m\u001b[43m)\u001b[49m\u001b[43m)\u001b[49m\u001b[43m \u001b[49m\u001b[38;5;129;43;01mis\u001b[39;49;00m\u001b[43m \u001b[49m\u001b[38;5;129;43;01mnot\u001b[39;49;00m\u001b[43m \u001b[49m\u001b[38;5;28;43;01mNone\u001b[39;49;00m\n\u001b[32m   2838\u001b[39m \u001b[43m        \u001b[49m\u001b[43m)\u001b[49m\u001b[43m:\u001b[49m\n",
      "\u001b[36mFile \u001b[39m\u001b[32m~/miniconda3/envs/veteran/lib/python3.11/site-packages/langgraph/pregel/__init__.py:2461\u001b[39m, in \u001b[36mPregel.stream\u001b[39m\u001b[34m(self, input, config, stream_mode, output_keys, interrupt_before, interrupt_after, checkpoint_during, debug, subgraphs)\u001b[39m\n\u001b[32m   2455\u001b[39m     \u001b[38;5;66;03m# Similarly to Bulk Synchronous Parallel / Pregel model\u001b[39;00m\n\u001b[32m   2456\u001b[39m     \u001b[38;5;66;03m# computation proceeds in steps, while there are channel updates.\u001b[39;00m\n\u001b[32m   2457\u001b[39m     \u001b[38;5;66;03m# Channel updates from step N are only visible in step N+1\u001b[39;00m\n\u001b[32m   2458\u001b[39m     \u001b[38;5;66;03m# channels are guaranteed to be immutable for the duration of the step,\u001b[39;00m\n\u001b[32m   2459\u001b[39m     \u001b[38;5;66;03m# with channel updates applied only at the transition between steps.\u001b[39;00m\n\u001b[32m   2460\u001b[39m     \u001b[38;5;28;01mwhile\u001b[39;00m loop.tick(input_keys=\u001b[38;5;28mself\u001b[39m.input_channels):\n\u001b[32m-> \u001b[39m\u001b[32m2461\u001b[39m \u001b[43m        \u001b[49m\u001b[38;5;28;43;01mfor\u001b[39;49;00m\u001b[43m \u001b[49m\u001b[43m_\u001b[49m\u001b[43m \u001b[49m\u001b[38;5;129;43;01min\u001b[39;49;00m\u001b[43m \u001b[49m\u001b[43mrunner\u001b[49m\u001b[43m.\u001b[49m\u001b[43mtick\u001b[49m\u001b[43m(\u001b[49m\n\u001b[32m   2462\u001b[39m \u001b[43m            \u001b[49m\u001b[43mloop\u001b[49m\u001b[43m.\u001b[49m\u001b[43mtasks\u001b[49m\u001b[43m.\u001b[49m\u001b[43mvalues\u001b[49m\u001b[43m(\u001b[49m\u001b[43m)\u001b[49m\u001b[43m,\u001b[49m\n\u001b[32m   2463\u001b[39m \u001b[43m            \u001b[49m\u001b[43mtimeout\u001b[49m\u001b[43m=\u001b[49m\u001b[38;5;28;43mself\u001b[39;49m\u001b[43m.\u001b[49m\u001b[43mstep_timeout\u001b[49m\u001b[43m,\u001b[49m\n\u001b[32m   2464\u001b[39m \u001b[43m            \u001b[49m\u001b[43mretry_policy\u001b[49m\u001b[43m=\u001b[49m\u001b[38;5;28;43mself\u001b[39;49m\u001b[43m.\u001b[49m\u001b[43mretry_policy\u001b[49m\u001b[43m,\u001b[49m\n\u001b[32m   2465\u001b[39m \u001b[43m            \u001b[49m\u001b[43mget_waiter\u001b[49m\u001b[43m=\u001b[49m\u001b[43mget_waiter\u001b[49m\u001b[43m,\u001b[49m\n\u001b[32m   2466\u001b[39m \u001b[43m        \u001b[49m\u001b[43m)\u001b[49m\u001b[43m:\u001b[49m\n\u001b[32m   2467\u001b[39m \u001b[43m            \u001b[49m\u001b[38;5;66;43;03m# emit output\u001b[39;49;00m\n\u001b[32m   2468\u001b[39m \u001b[43m            \u001b[49m\u001b[38;5;28;43;01myield from\u001b[39;49;00m\u001b[43m \u001b[49m\u001b[43moutput\u001b[49m\u001b[43m(\u001b[49m\u001b[43m)\u001b[49m\n\u001b[32m   2469\u001b[39m \u001b[38;5;66;03m# emit output\u001b[39;00m\n",
      "\u001b[36mFile \u001b[39m\u001b[32m~/miniconda3/envs/veteran/lib/python3.11/site-packages/langgraph/pregel/runner.py:153\u001b[39m, in \u001b[36mPregelRunner.tick\u001b[39m\u001b[34m(self, tasks, reraise, timeout, retry_policy, get_waiter)\u001b[39m\n\u001b[32m    151\u001b[39m t = tasks[\u001b[32m0\u001b[39m]\n\u001b[32m    152\u001b[39m \u001b[38;5;28;01mtry\u001b[39;00m:\n\u001b[32m--> \u001b[39m\u001b[32m153\u001b[39m     \u001b[43mrun_with_retry\u001b[49m\u001b[43m(\u001b[49m\n\u001b[32m    154\u001b[39m \u001b[43m        \u001b[49m\u001b[43mt\u001b[49m\u001b[43m,\u001b[49m\n\u001b[32m    155\u001b[39m \u001b[43m        \u001b[49m\u001b[43mretry_policy\u001b[49m\u001b[43m,\u001b[49m\n\u001b[32m    156\u001b[39m \u001b[43m        \u001b[49m\u001b[43mconfigurable\u001b[49m\u001b[43m=\u001b[49m\u001b[43m{\u001b[49m\n\u001b[32m    157\u001b[39m \u001b[43m            \u001b[49m\u001b[43mCONFIG_KEY_CALL\u001b[49m\u001b[43m:\u001b[49m\u001b[43m \u001b[49m\u001b[43mpartial\u001b[49m\u001b[43m(\u001b[49m\n\u001b[32m    158\u001b[39m \u001b[43m                \u001b[49m\u001b[43m_call\u001b[49m\u001b[43m,\u001b[49m\n\u001b[32m    159\u001b[39m \u001b[43m                \u001b[49m\u001b[43mweakref\u001b[49m\u001b[43m.\u001b[49m\u001b[43mref\u001b[49m\u001b[43m(\u001b[49m\u001b[43mt\u001b[49m\u001b[43m)\u001b[49m\u001b[43m,\u001b[49m\n\u001b[32m    160\u001b[39m \u001b[43m                \u001b[49m\u001b[43mretry\u001b[49m\u001b[43m=\u001b[49m\u001b[43mretry_policy\u001b[49m\u001b[43m,\u001b[49m\n\u001b[32m    161\u001b[39m \u001b[43m                \u001b[49m\u001b[43mfutures\u001b[49m\u001b[43m=\u001b[49m\u001b[43mweakref\u001b[49m\u001b[43m.\u001b[49m\u001b[43mref\u001b[49m\u001b[43m(\u001b[49m\u001b[43mfutures\u001b[49m\u001b[43m)\u001b[49m\u001b[43m,\u001b[49m\n\u001b[32m    162\u001b[39m \u001b[43m                \u001b[49m\u001b[43mschedule_task\u001b[49m\u001b[43m=\u001b[49m\u001b[38;5;28;43mself\u001b[39;49m\u001b[43m.\u001b[49m\u001b[43mschedule_task\u001b[49m\u001b[43m,\u001b[49m\n\u001b[32m    163\u001b[39m \u001b[43m                \u001b[49m\u001b[43msubmit\u001b[49m\u001b[43m=\u001b[49m\u001b[38;5;28;43mself\u001b[39;49m\u001b[43m.\u001b[49m\u001b[43msubmit\u001b[49m\u001b[43m,\u001b[49m\n\u001b[32m    164\u001b[39m \u001b[43m                \u001b[49m\u001b[43mreraise\u001b[49m\u001b[43m=\u001b[49m\u001b[43mreraise\u001b[49m\u001b[43m,\u001b[49m\n\u001b[32m    165\u001b[39m \u001b[43m            \u001b[49m\u001b[43m)\u001b[49m\u001b[43m,\u001b[49m\n\u001b[32m    166\u001b[39m \u001b[43m        \u001b[49m\u001b[43m}\u001b[49m\u001b[43m,\u001b[49m\n\u001b[32m    167\u001b[39m \u001b[43m    \u001b[49m\u001b[43m)\u001b[49m\n\u001b[32m    168\u001b[39m     \u001b[38;5;28mself\u001b[39m.commit(t, \u001b[38;5;28;01mNone\u001b[39;00m)\n\u001b[32m    169\u001b[39m \u001b[38;5;28;01mexcept\u001b[39;00m \u001b[38;5;167;01mException\u001b[39;00m \u001b[38;5;28;01mas\u001b[39;00m exc:\n",
      "\u001b[36mFile \u001b[39m\u001b[32m~/miniconda3/envs/veteran/lib/python3.11/site-packages/langgraph/pregel/retry.py:40\u001b[39m, in \u001b[36mrun_with_retry\u001b[39m\u001b[34m(task, retry_policy, configurable)\u001b[39m\n\u001b[32m     38\u001b[39m     task.writes.clear()\n\u001b[32m     39\u001b[39m     \u001b[38;5;66;03m# run the task\u001b[39;00m\n\u001b[32m---> \u001b[39m\u001b[32m40\u001b[39m     \u001b[38;5;28;01mreturn\u001b[39;00m \u001b[43mtask\u001b[49m\u001b[43m.\u001b[49m\u001b[43mproc\u001b[49m\u001b[43m.\u001b[49m\u001b[43minvoke\u001b[49m\u001b[43m(\u001b[49m\u001b[43mtask\u001b[49m\u001b[43m.\u001b[49m\u001b[43minput\u001b[49m\u001b[43m,\u001b[49m\u001b[43m \u001b[49m\u001b[43mconfig\u001b[49m\u001b[43m)\u001b[49m\n\u001b[32m     41\u001b[39m \u001b[38;5;28;01mexcept\u001b[39;00m ParentCommand \u001b[38;5;28;01mas\u001b[39;00m exc:\n\u001b[32m     42\u001b[39m     ns: \u001b[38;5;28mstr\u001b[39m = config[CONF][CONFIG_KEY_CHECKPOINT_NS]\n",
      "\u001b[36mFile \u001b[39m\u001b[32m~/miniconda3/envs/veteran/lib/python3.11/site-packages/langgraph/utils/runnable.py:623\u001b[39m, in \u001b[36mRunnableSeq.invoke\u001b[39m\u001b[34m(self, input, config, **kwargs)\u001b[39m\n\u001b[32m    621\u001b[39m     \u001b[38;5;66;03m# run in context\u001b[39;00m\n\u001b[32m    622\u001b[39m     \u001b[38;5;28;01mwith\u001b[39;00m set_config_context(config, run) \u001b[38;5;28;01mas\u001b[39;00m context:\n\u001b[32m--> \u001b[39m\u001b[32m623\u001b[39m         \u001b[38;5;28minput\u001b[39m = \u001b[43mcontext\u001b[49m\u001b[43m.\u001b[49m\u001b[43mrun\u001b[49m\u001b[43m(\u001b[49m\u001b[43mstep\u001b[49m\u001b[43m.\u001b[49m\u001b[43minvoke\u001b[49m\u001b[43m,\u001b[49m\u001b[43m \u001b[49m\u001b[38;5;28;43minput\u001b[39;49m\u001b[43m,\u001b[49m\u001b[43m \u001b[49m\u001b[43mconfig\u001b[49m\u001b[43m,\u001b[49m\u001b[43m \u001b[49m\u001b[43m*\u001b[49m\u001b[43m*\u001b[49m\u001b[43mkwargs\u001b[49m\u001b[43m)\u001b[49m\n\u001b[32m    624\u001b[39m \u001b[38;5;28;01melse\u001b[39;00m:\n\u001b[32m    625\u001b[39m     \u001b[38;5;28minput\u001b[39m = step.invoke(\u001b[38;5;28minput\u001b[39m, config)\n",
      "\u001b[36mFile \u001b[39m\u001b[32m~/miniconda3/envs/veteran/lib/python3.11/site-packages/langgraph/utils/runnable.py:377\u001b[39m, in \u001b[36mRunnableCallable.invoke\u001b[39m\u001b[34m(self, input, config, **kwargs)\u001b[39m\n\u001b[32m    375\u001b[39m         run_manager.on_chain_end(ret)\n\u001b[32m    376\u001b[39m \u001b[38;5;28;01melse\u001b[39;00m:\n\u001b[32m--> \u001b[39m\u001b[32m377\u001b[39m     ret = \u001b[38;5;28;43mself\u001b[39;49m\u001b[43m.\u001b[49m\u001b[43mfunc\u001b[49m\u001b[43m(\u001b[49m\u001b[43m*\u001b[49m\u001b[43margs\u001b[49m\u001b[43m,\u001b[49m\u001b[43m \u001b[49m\u001b[43m*\u001b[49m\u001b[43m*\u001b[49m\u001b[43mkwargs\u001b[49m\u001b[43m)\u001b[49m\n\u001b[32m    378\u001b[39m \u001b[38;5;28;01mif\u001b[39;00m \u001b[38;5;28mself\u001b[39m.recurse \u001b[38;5;129;01mand\u001b[39;00m \u001b[38;5;28misinstance\u001b[39m(ret, Runnable):\n\u001b[32m    379\u001b[39m     \u001b[38;5;28;01mreturn\u001b[39;00m ret.invoke(\u001b[38;5;28minput\u001b[39m, config)\n",
      "\u001b[36mFile \u001b[39m\u001b[32m~/Desktop/Veteran/conversation_logic.py:51\u001b[39m, in \u001b[36mconversation_logic.conversation\u001b[39m\u001b[34m(self, state)\u001b[39m\n\u001b[32m     48\u001b[39m AIquestion = \u001b[38;5;28mself\u001b[39m.question_list[phase]\n\u001b[32m     50\u001b[39m \u001b[38;5;66;03m# TTS로 질문 음성 출력\u001b[39;00m\n\u001b[32m---> \u001b[39m\u001b[32m51\u001b[39m \u001b[38;5;28;43mself\u001b[39;49m\u001b[43m.\u001b[49m\u001b[43mvtt\u001b[49m\u001b[43m.\u001b[49m\u001b[43mspeak\u001b[49m\u001b[43m(\u001b[49m\u001b[43mAIquestion\u001b[49m\u001b[43m)\u001b[49m \n\u001b[32m     53\u001b[39m \u001b[38;5;66;03m# STT로 사용자의 답변 음성 입력\u001b[39;00m\n\u001b[32m     54\u001b[39m human_answer = \u001b[38;5;28mself\u001b[39m.vtt.record() \n",
      "\u001b[36mFile \u001b[39m\u001b[32m~/Desktop/Veteran/VoiceToText.py:52\u001b[39m, in \u001b[36mVoiceToText.speak\u001b[39m\u001b[34m(self, text)\u001b[39m\n\u001b[32m     50\u001b[39m tts = gTTS(text=text, lang=\u001b[33m'\u001b[39m\u001b[33mko\u001b[39m\u001b[33m'\u001b[39m)\n\u001b[32m     51\u001b[39m tts.save(path)\n\u001b[32m---> \u001b[39m\u001b[32m52\u001b[39m \u001b[43mplaysound\u001b[49m\u001b[43m.\u001b[49m\u001b[43mplaysound\u001b[49m\u001b[43m(\u001b[49m\u001b[43mpath\u001b[49m\u001b[43m)\u001b[49m\n\u001b[32m     54\u001b[39m \u001b[38;5;28mself\u001b[39m._append_transcript(\u001b[33m\"\u001b[39m\u001b[33m[AI]\u001b[39m\u001b[33m\"\u001b[39m, text)\n\u001b[32m     55\u001b[39m \u001b[38;5;28mself\u001b[39m.ai_counter += \u001b[32m1\u001b[39m\n",
      "\u001b[36mFile \u001b[39m\u001b[32m~/miniconda3/envs/veteran/lib/python3.11/site-packages/playsound.py:144\u001b[39m, in \u001b[36m_playsoundOSX\u001b[39m\u001b[34m(sound, block)\u001b[39m\n\u001b[32m    141\u001b[39m nssound.play()\n\u001b[32m    143\u001b[39m \u001b[38;5;28;01mif\u001b[39;00m block:\n\u001b[32m--> \u001b[39m\u001b[32m144\u001b[39m     sleep(nssound.duration())\n",
      "\u001b[31mKeyboardInterrupt\u001b[39m: "
     ]
    }
   ],
   "source": [
    "from conversation_logic import conversation_logic\n",
    "logic = conversation_logic()\n",
    "logic.compose_workflow()\n",
    "logic.run()"
   ]
  },
  {
   "cell_type": "code",
   "execution_count": null,
   "id": "e377eca0",
   "metadata": {},
   "outputs": [],
   "source": []
  }
 ],
 "metadata": {
  "kernelspec": {
   "display_name": "veteran",
   "language": "python",
   "name": "python3"
  },
  "language_info": {
   "codemirror_mode": {
    "name": "ipython",
    "version": 3
   },
   "file_extension": ".py",
   "mimetype": "text/x-python",
   "name": "python",
   "nbconvert_exporter": "python",
   "pygments_lexer": "ipython3",
   "version": "3.11.8"
  }
 },
 "nbformat": 4,
 "nbformat_minor": 5
}
