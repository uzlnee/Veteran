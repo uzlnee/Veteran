{
 "cells": [
  {
   "cell_type": "code",
   "execution_count": 1,
   "id": "7772a49e",
   "metadata": {},
   "outputs": [
    {
     "name": "stderr",
     "output_type": "stream",
     "text": [
      "/Users/kim-yongjun/Documents/ConversationFlow/Veteran/conversation_logic.py:3: LangChainDeprecationWarning: As of langchain-core 0.3.0, LangChain uses pydantic v2 internally. The langchain_core.pydantic_v1 module was a compatibility shim for pydantic v1, and should no longer be used. Please update the code to import from Pydantic directly.\n",
      "\n",
      "For example, replace imports like: `from langchain_core.pydantic_v1 import BaseModel`\n",
      "with: `from pydantic import BaseModel`\n",
      "or the v1 compatibility namespace if you are working in a code base that has not been fully upgraded to pydantic 2 yet. \tfrom pydantic.v1 import BaseModel\n",
      "\n",
      "  from schemas.ValidationResponse import ValidationResponse\n",
      "/opt/homebrew/anaconda3/envs/langgraph_env/lib/python3.11/site-packages/langchain_openai/chat_models/base.py:1630: UserWarning: Received a Pydantic BaseModel V1 schema. This is not supported by method=\"json_schema\". Please use method=\"function_calling\" or specify schema via JSON Schema or Pydantic V2 BaseModel. Overriding to method=\"function_calling\".\n",
      "  warnings.warn(\n"
     ]
    },
    {
     "name": "stdout",
     "output_type": "stream",
     "text": [
      "[AI] 안녕하세요. 어르신의 구직을 도와드리기 위해 몇 가지 질문을 드리겠습니다.\n",
      "[AI] 질문에 대한 답변은 가능한 구체적으로 말씀해주실 수록 최적의 구직 정보를 제공받으실 수 있습니다.\n",
      "[AI] 그럼 시작하겠습니다.\n",
      "[AI] 어르신의 성함을 알려 주세요.\n",
      "[녹음 시작] 말씀해주세요.\n",
      "[저장 완료] recordings/20250512_225506/USER_0001.wav에 저장되었습니다.\n",
      "[USER] \"나는 김용준입니다.\"\n",
      "[AI] 감사합니다. 다음 질문으로 넘어가겠습니다.\n",
      "[AI] 어르신의 나이를 알려 주세요.\n",
      "[녹음 시작] 말씀해주세요.\n",
      "[저장 완료] recordings/20250512_225506/USER_0002.wav에 저장되었습니다.\n",
      "[USER] \"나는 27세입니다.\"\n",
      "[AI] 감사합니다. 다음 질문으로 넘어가겠습니다.\n",
      "[AI] 어르신의 거주지를 알려 주세요. 도, 시, 구 까지만 알려 주시면 됩니다.\n",
      "[녹음 시작] 말씀해주세요.\n",
      "[저장 완료] recordings/20250512_225506/USER_0003.wav에 저장되었습니다.\n",
      "[USER] \"나는 경기도 용인시 수지구에 살고 있습니다.\"\n",
      "[AI] 감사합니다. 다음 질문으로 넘어가겠습니다.\n",
      "[AI] 근무가 가능한 시간대를 알려 주세요.\n",
      "[녹음 시작] 말씀해주세요.\n",
      "[저장 완료] recordings/20250512_225506/USER_0004.wav에 저장되었습니다.\n",
      "[USER] \"나는 오전 9시부터 오후 6시까지 일할 수 있습니다.\"\n",
      "[AI] 감사합니다. 다음 질문으로 넘어가겠습니다.\n",
      "[AI] 가지고 계신 자격증이 있다면 알려 주세요.\n",
      "[녹음 시작] 말씀해주세요.\n",
      "[저장 완료] recordings/20250512_225506/USER_0005.wav에 저장되었습니다.\n",
      "[USER] \"저는 환경 미화원 자격증을 가지고 있습니다.\"\n",
      "[AI] 감사합니다. 다음 질문으로 넘어가겠습니다.\n",
      "[AI] 선호하는 직종이 있다면 알려 주세요.\n",
      "[녹음 시작] 말씀해주세요.\n",
      "[저장 완료] recordings/20250512_225506/USER_0006.wav에 저장되었습니다.\n",
      "[USER] \"나는 환경미화원 자격증이 있어서 청소 같은 일을 좀 하고 싶습니다.\"\n",
      "[AI] 감사합니다. 다음 질문으로 넘어가겠습니다.\n",
      "[AI] 신체 중 불편한 곳이 있다면 알려 주세요.\n",
      "[녹음 시작] 말씀해주세요.\n",
      "[저장 완료] recordings/20250512_225506/USER_0007.wav에 저장되었습니다.\n",
      "[USER] \"저는 허리가 좀 아픕니다.\"\n",
      "[AI] 감사합니다. 다음 질문으로 넘어가겠습니다.\n",
      "[AI] 어르신의 경력 사항을 알려 주세요.\n",
      "[녹음 시작] 말씀해주세요.\n",
      "[저장 완료] recordings/20250512_225506/USER_0008.wav에 저장되었습니다.\n",
      "[USER] \"저는 옛날에 경비원으로 아파트 청소 일을 했었습니다.\"\n",
      "[AI] 어르신, 말씀주신 내용이 충분하지 않은 것 같아요. 어르신의 경력 사항에 대한 정보는 포함되어 있지만, 구체적인 경력 기간이나 회사 이름 등 추가적인 정보가 부족합니다.\n",
      "[AI] 어르신의 경력 사항을 알려 주세요.\n",
      "[녹음 시작] 말씀해주세요.\n",
      "[저장 완료] recordings/20250512_225506/USER_0009.wav에 저장되었습니다.\n",
      "[USER] \"저는 예전에 삼성 아파트에서 한 3년 정도 청소 일을 했습니다. 그래서 또 청소 일을 하고 싶습니다.\"\n",
      "[AI] 감사합니다. 다음 질문으로 넘어가겠습니다.\n",
      "[AI] 어르신의 학력 사항을 알려 주세요.\n",
      "[녹음 시작] 말씀해주세요.\n",
      "[저장 완료] recordings/20250512_225506/USER_0010.wav에 저장되었습니다.\n",
      "[USER] \"저는 고등학교까지 졸업했고 대학교는 다니지 않았습니다.\"\n",
      "[AI] 모든 질문에 대한 답변이 끝나셨습니다.                                  어르신의 답변을 바탕으로 최적의 구직 정보를 빠른 시일 내에 메세지로 전달해드리겠습니다.                                  감사합니다.\n",
      "[AI] 어르신, 대화가 종료되었습니다.\n"
     ]
    },
    {
     "data": {
      "text/plain": [
       "{'name': '김용준',\n",
       " 'age': 27,\n",
       " 'location': '경기도 용인시 수지구',\n",
       " 'available_time': '오전 9시부터 오후 6시까지',\n",
       " 'license': '환경 미화원 자격증',\n",
       " 'preferred_field': '청소',\n",
       " 'health_condition': '허리가 좀 아픕니다',\n",
       " 'career': '삼성 아파트에서 3년 정도 청소 일',\n",
       " 'education': '고등학교 졸업'}"
      ]
     },
     "execution_count": 1,
     "metadata": {},
     "output_type": "execute_result"
    }
   ],
   "source": [
    "from conversation_logic import conversation_logic\n",
    "logic = conversation_logic()\n",
    "\n",
    "logic.compose_workflow()\n",
    "logic.run()"
   ]
  },
  {
   "cell_type": "code",
   "execution_count": null,
   "id": "d5bcaeb5",
   "metadata": {},
   "outputs": [],
   "source": [
    "from schemas.VoiceToText import VoiceToText\n",
    "vtt = VoiceToText()\n",
    "vtt.speak(\"안녕하세요. 질문을 시작하겠습니다.\")\n",
    "result = vtt.listen(\"./sample_data/S00007727/0007.wav\") # 오디오 파일 경로\n",
    "print(\"[고객] \", result)"
   ]
  },
  {
   "cell_type": "markdown",
   "id": "7f4f9998",
   "metadata": {},
   "source": [
    "[AI] 안녕하세요. 질문을 시작하겠습니다. <br>\n",
    "[고객] \"저희가 신규 등록 시 무료로 레벨 테스트를 하고 있습니다.\""
   ]
  },
  {
   "cell_type": "code",
   "execution_count": 1,
   "id": "79753be6",
   "metadata": {},
   "outputs": [],
   "source": [
    "result = {'phase': 7,\n",
    " 'history': ['AI : 어르신의 성함을 알려 주세요.\\n',\n",
    "  'User : \"나는 김용준입니다.\"\\n',\n",
    "  'AI : 어르신의 나이를 알려 주세요.\\n',\n",
    "  'User : \"나는 78살입니다.\"\\n',\n",
    "  'AI : 어르신의 거주지를 알려 주세요. 시, 도, 구 까지만 알려 주시면 됩니다.\\n',\n",
    "  'User : \"나는 용인시 수지구 동천동에 살고 있습니다.\"\\n',\n",
    "  'AI : 근무가 가능한 시간대를 알려 주세요.\\n',\n",
    "  'User : \"저는 오전 9시부터 오후 5시까지 일할 수 있습니다.\"\\n',\n",
    "  'AI : 가지고 계신 자격증이 있다면 알려 주세요.\\n',\n",
    "  'User : \"저는 환경미화원 자격증을 가지고 있습니다.\"\\n',\n",
    "  'AI : 선호하는 직종이 있다면 알려 주세요.\\n',\n",
    "  'User : \"저는 청소 같은 것을 하면 좋을 것 같아요.\"\\n',\n",
    "  'AI : 신체 중 불편한 곳이 있다면 알려 주세요.\\n',\n",
    "  'User : \"저는 허리가 조금 아픕니다.\"\\n',\n",
    "  'AI : 어르신의 학력 사항을 알려 주세요.\\n',\n",
    "  'User : \"저는 고등학교까지만 졸업했고 대학교는 다니지 않았습니다.\"\\n',\n",
    "  '[대화 종료]'],\n",
    " 'last_response': '\"저는 고등학교까지만 졸업했고 대학교는 다니지 않았습니다.\"'}"
   ]
  },
  {
   "cell_type": "code",
   "execution_count": 2,
   "id": "ac9b1fa5",
   "metadata": {},
   "outputs": [
    {
     "name": "stderr",
     "output_type": "stream",
     "text": [
      "/Users/kim-yongjun/Documents/ConversationFlow/Veteran/conversation_logic.py:3: LangChainDeprecationWarning: As of langchain-core 0.3.0, LangChain uses pydantic v2 internally. The langchain_core.pydantic_v1 module was a compatibility shim for pydantic v1, and should no longer be used. Please update the code to import from Pydantic directly.\n",
      "\n",
      "For example, replace imports like: `from langchain_core.pydantic_v1 import BaseModel`\n",
      "with: `from pydantic import BaseModel`\n",
      "or the v1 compatibility namespace if you are working in a code base that has not been fully upgraded to pydantic 2 yet. \tfrom pydantic.v1 import BaseModel\n",
      "\n",
      "  from schemas.ValidationResponse import ValidationResponse\n",
      "/opt/homebrew/anaconda3/envs/langgraph_env/lib/python3.11/site-packages/langchain_openai/chat_models/base.py:1630: UserWarning: Received a Pydantic BaseModel V1 schema. This is not supported by method=\"json_schema\". Please use method=\"function_calling\" or specify schema via JSON Schema or Pydantic V2 BaseModel. Overriding to method=\"function_calling\".\n",
      "  warnings.warn(\n"
     ]
    },
    {
     "data": {
      "text/plain": [
       "{'name': '김용준',\n",
       " 'age': 78,\n",
       " 'location': '용인시 수지구 동천동',\n",
       " 'available_time': '오전 9시부터 오후 5시까지',\n",
       " 'license': '환경미화원 자격증',\n",
       " 'preferred_field': '청소',\n",
       " 'health_condition': '허리 통증',\n",
       " 'carrer': '',\n",
       " 'education': '고등학교 졸업'}"
      ]
     },
     "execution_count": 2,
     "metadata": {},
     "output_type": "execute_result"
    }
   ],
   "source": [
    "from conversation_logic import conversation_logic\n",
    "logic = conversation_logic()\n",
    "history = result['history']\n",
    "\n",
    "logic.test(history)\n"
   ]
  },
  {
   "cell_type": "code",
   "execution_count": null,
   "id": "b7870b57",
   "metadata": {},
   "outputs": [],
   "source": []
  }
 ],
 "metadata": {
  "kernelspec": {
   "display_name": "langgraph_env",
   "language": "python",
   "name": "python3"
  },
  "language_info": {
   "codemirror_mode": {
    "name": "ipython",
    "version": 3
   },
   "file_extension": ".py",
   "mimetype": "text/x-python",
   "name": "python",
   "nbconvert_exporter": "python",
   "pygments_lexer": "ipython3",
   "version": "3.11.11"
  }
 },
 "nbformat": 4,
 "nbformat_minor": 5
}
